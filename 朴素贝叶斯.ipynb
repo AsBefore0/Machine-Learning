{
 "cells": [
  {
   "cell_type": "code",
   "execution_count": 1,
   "metadata": {},
   "outputs": [],
   "source": [
    "# 导入所需库\n",
    "import numpy as np\n",
    "from sklearn.naive_bayes import GaussianNB\n",
    "from sklearn.metrics import accuracy_score, classification_report\n",
    "\n",
    "# 手动创建简单的二维特征数据集\n",
    "# X表示特征，y表示类别\n",
    "X = np.array([[1.5, 2.0], [1.0, 1.5], [2.0, 1.0], [5.0, 6.0], [6.0, 5.5], [5.5, 6.5]])\n",
    "y = np.array([0, 0, 0, 1, 1, 1])  # 类别标签"
   ]
  },
  {
   "cell_type": "code",
   "execution_count": 2,
   "metadata": {},
   "outputs": [
    {
     "name": "stdout",
     "output_type": "stream",
     "text": [
      "Predicted labels: [0 1]\n",
      "Actual labels: [0 1]\n"
     ]
    }
   ],
   "source": [
    "# 创建朴素贝叶斯分类器\n",
    "gnb = GaussianNB()\n",
    "# 训练模型\n",
    "gnb.fit(X, y)\n",
    "# 手动创建一个测试集\n",
    "X_test = np.array([[1.2, 1.8], [5.5, 6.0]])\n",
    "y_test = np.array([0, 1])  # 实际类别\n",
    "# 使用模型进行预测\n",
    "y_pred = gnb.predict(X_test)\n",
    "# 输出预测结果\n",
    "print(f'Predicted labels: {y_pred}')\n",
    "print(f'Actual labels: {y_test}')"
   ]
  },
  {
   "cell_type": "code",
   "execution_count": 3,
   "metadata": {},
   "outputs": [
    {
     "name": "stdout",
     "output_type": "stream",
     "text": [
      "Accuracy: 100.00%\n",
      "Classification Report:\n",
      "              precision    recall  f1-score   support\n",
      "\n",
      "           0       1.00      1.00      1.00         1\n",
      "           1       1.00      1.00      1.00         1\n",
      "\n",
      "    accuracy                           1.00         2\n",
      "   macro avg       1.00      1.00      1.00         2\n",
      "weighted avg       1.00      1.00      1.00         2\n",
      "\n"
     ]
    }
   ],
   "source": [
    "# 评估模型\n",
    "accuracy = accuracy_score(y_test, y_pred)\n",
    "print(f'Accuracy: {accuracy * 100:.2f}%')\n",
    "print('Classification Report:')\n",
    "print(classification_report(y_test, y_pred))"
   ]
  }
 ],
 "metadata": {
  "kernelspec": {
   "display_name": "mlearn",
   "language": "python",
   "name": "python3"
  },
  "language_info": {
   "codemirror_mode": {
    "name": "ipython",
    "version": 3
   },
   "file_extension": ".py",
   "mimetype": "text/x-python",
   "name": "python",
   "nbconvert_exporter": "python",
   "pygments_lexer": "ipython3",
   "version": "3.8.10"
  }
 },
 "nbformat": 4,
 "nbformat_minor": 2
}
