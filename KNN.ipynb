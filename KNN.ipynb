{
 "cells": [
  {
   "cell_type": "code",
   "execution_count": 3,
   "metadata": {},
   "outputs": [],
   "source": [
    "import numpy as np\n",
    "from sklearn.neighbors import KNeighborsClassifier\n",
    "from sklearn.model_selection import cross_val_score\n",
    "\n",
    "# 手动创建一个小型数据集\n",
    "X = np.array([[1, 2], [2, 3], [3, 1], [6, 8], [7, 8], [9, 10],\n",
    "              [10, 5], [5, 4], [6, 5], [7, 7], [8, 9], [1, 0],\n",
    "              [0, 2], [2, 1], [8, 6], [9, 5], [10, 6], [4, 4],\n",
    "              [5, 3], [6, 2]])\n",
    "y = np.array([0, 0, 0, 1, 1, 1, 1, 0, 0, 1, 1, 0, 0, 0, 1, 1, 1, 0, 0, 1])"
   ]
  },
  {
   "cell_type": "code",
   "execution_count": 5,
   "metadata": {},
   "outputs": [
    {
     "name": "stdout",
     "output_type": "stream",
     "text": [
      "K = 1, Cross-Validation Accuracy: 0.9500\n",
      "K = 2, Cross-Validation Accuracy: 0.9500\n",
      "K = 3, Cross-Validation Accuracy: 0.9500\n",
      "K = 4, Cross-Validation Accuracy: 0.9500\n",
      "K = 5, Cross-Validation Accuracy: 0.9500\n",
      "K = 6, Cross-Validation Accuracy: 0.9500\n",
      "K = 7, Cross-Validation Accuracy: 0.9000\n",
      "K = 8, Cross-Validation Accuracy: 0.9000\n",
      "K = 9, Cross-Validation Accuracy: 0.8500\n"
     ]
    }
   ],
   "source": [
    "# 创建一个空的字典来存储不同K值的交叉验证结果\n",
    "k_range = range(1, 10)  # 尝试K=1到K=10\n",
    "k_scores = []\n",
    "\n",
    "# 循环遍历每个K值，进行交叉验证\n",
    "for k in k_range:\n",
    "    knn = KNeighborsClassifier(n_neighbors=k)\n",
    "    # cv表示5折交叉验证\n",
    "    scores = cross_val_score(knn, X, y, cv=5, scoring='accuracy')\n",
    "    k_scores.append(scores.mean())\n",
    "\n",
    "# 输出每个K值的平均交叉验证得分\n",
    "for i, score in enumerate(k_scores, start=1):\n",
    "    print(f\"K = {i}, Cross-Validation Accuracy: {score:.4f}\")"
   ]
  }
 ],
 "metadata": {
  "kernelspec": {
   "display_name": "mlearn",
   "language": "python",
   "name": "python3"
  },
  "language_info": {
   "codemirror_mode": {
    "name": "ipython",
    "version": 3
   },
   "file_extension": ".py",
   "mimetype": "text/x-python",
   "name": "python",
   "nbconvert_exporter": "python",
   "pygments_lexer": "ipython3",
   "version": "3.8.10"
  }
 },
 "nbformat": 4,
 "nbformat_minor": 2
}
